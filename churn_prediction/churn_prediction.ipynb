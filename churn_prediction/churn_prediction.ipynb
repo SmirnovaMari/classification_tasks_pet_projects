{
 "cells": [
  {
   "cell_type": "markdown",
   "metadata": {},
   "source": [
    "# Отток клиентов "
   ]
  },
  {
   "cell_type": "markdown",
   "metadata": {},
   "source": [
    "В датасете предоставлены исторические данные о поведении клиентов и расторжении договоров с банком. Целью данной работы является построение модели, прогнозирующей отток клиентов банка"
   ]
  },
  {
   "cell_type": "markdown",
   "metadata": {},
   "source": [
    "## 1. Подготовка данных"
   ]
  },
  {
   "cell_type": "markdown",
   "metadata": {},
   "source": [
    "##  Содержание\n",
    "\n",
    "1. [Подготовка данных](#1.-Подготовка-данных)\n",
    "2. [Исследование задачи](#2.-Исследование-задачи)\n",
    "3. [Борьба с дисбалансом](#3.-Борьба-с-дисбаланасом)\n",
    "4. [Тестирование модели](#4.-Тестирование-модели)"
   ]
  },
  {
   "cell_type": "markdown",
   "metadata": {},
   "source": [
    "### Описание целей и задачи проекта"
   ]
  },
  {
   "cell_type": "markdown",
   "metadata": {},
   "source": [
    "Целью данной работы является прогнозирование оттока клиентов банка на основании личных данных и информации о пользовании услугами банка. С учетом дисбаланса целевой переменной для оценки качества была использована метрика f1. В работе дана оценка трех базовых алгоритмов - Логистической регрессии, Решающего дерева и Случайного леса на несбалансированной выборке, а также представлены способы улучшения качества с учетом дисбаланса классов."
   ]
  },
  {
   "cell_type": "markdown",
   "metadata": {},
   "source": [
    "### План работы "
   ]
  },
  {
   "cell_type": "markdown",
   "metadata": {},
   "source": [
    "* EDA\n",
    "* Проверка качества и подбор гиперпараметров для базовых алгоритмов на несбалансированной выборке\n",
    "* Улучшение качество моделей с учетом дисбаланса классов (class_weight, Upsampling of minority class, Downsampling of majority class, Изменение порога классификации)\n",
    "* Провенка качества на тестовой выборке"
   ]
  },
  {
   "cell_type": "markdown",
   "metadata": {},
   "source": [
    "### Описание данных"
   ]
  },
  {
   "cell_type": "markdown",
   "metadata": {},
   "source": [
    "* **RowNumber** - индекс строки в данных\n",
    "* **CustomerId** - уникальный идентификатор клиента\n",
    "* **Surname** - фамилия\n",
    "* **CreditScore** - кредитный рейтинг\n",
    "* **Geography** — страна проживания\n",
    "* **Gender** — пол\n",
    "* **Age** — возраст\n",
    "* **Tenure** — сколько лет человек является клиентом банка\n",
    "* **Balance** — баланс на счёте\n",
    "* **NumOfProducts** — количество продуктов банка, используемых клиентом\n",
    "* **HasCrCard** — наличие кредитной карты\n",
    "* **IsActiveMember** — активность клиента\n",
    "* **EstimatedSalary** — предполагаемая зарплата\n",
    "* **Exited** — факт ухода клиента\n"
   ]
  },
  {
   "cell_type": "code",
   "execution_count": 1,
   "metadata": {},
   "outputs": [],
   "source": [
    "import os\n",
    "import pandas as pd\n",
    "import seaborn as sns\n",
    "import matplotlib.pyplot as plt\n",
    "import numpy as np\n",
    "import random\n",
    "\n",
    "from scipy import stats as st\n",
    "from sklearn.model_selection import train_test_split\n",
    "from sklearn.linear_model import LogisticRegression\n",
    "from sklearn.tree import DecisionTreeClassifier\n",
    "from sklearn.ensemble import RandomForestClassifier\n",
    "from sklearn.metrics import f1_score\n",
    "from sklearn.preprocessing import MinMaxScaler, StandardScaler\n",
    "from sklearn.utils import shuffle\n",
    "from sklearn.metrics import precision_score, recall_score\n",
    "from sklearn.metrics import roc_auc_score, roc_curve "
   ]
  },
  {
   "cell_type": "code",
   "execution_count": 2,
   "metadata": {},
   "outputs": [
    {
     "data": {
      "text/html": [
       "<div>\n",
       "<style scoped>\n",
       "    .dataframe tbody tr th:only-of-type {\n",
       "        vertical-align: middle;\n",
       "    }\n",
       "\n",
       "    .dataframe tbody tr th {\n",
       "        vertical-align: top;\n",
       "    }\n",
       "\n",
       "    .dataframe thead th {\n",
       "        text-align: right;\n",
       "    }\n",
       "</style>\n",
       "<table border=\"1\" class=\"dataframe\">\n",
       "  <thead>\n",
       "    <tr style=\"text-align: right;\">\n",
       "      <th></th>\n",
       "      <th>RowNumber</th>\n",
       "      <th>CustomerId</th>\n",
       "      <th>Surname</th>\n",
       "      <th>CreditScore</th>\n",
       "      <th>Geography</th>\n",
       "      <th>Gender</th>\n",
       "      <th>Age</th>\n",
       "      <th>Tenure</th>\n",
       "      <th>Balance</th>\n",
       "      <th>NumOfProducts</th>\n",
       "      <th>HasCrCard</th>\n",
       "      <th>IsActiveMember</th>\n",
       "      <th>EstimatedSalary</th>\n",
       "      <th>Exited</th>\n",
       "    </tr>\n",
       "  </thead>\n",
       "  <tbody>\n",
       "    <tr>\n",
       "      <th>0</th>\n",
       "      <td>1</td>\n",
       "      <td>15634602</td>\n",
       "      <td>Hargrave</td>\n",
       "      <td>619</td>\n",
       "      <td>France</td>\n",
       "      <td>Female</td>\n",
       "      <td>42</td>\n",
       "      <td>2.0</td>\n",
       "      <td>0.00</td>\n",
       "      <td>1</td>\n",
       "      <td>1</td>\n",
       "      <td>1</td>\n",
       "      <td>101348.88</td>\n",
       "      <td>1</td>\n",
       "    </tr>\n",
       "    <tr>\n",
       "      <th>1</th>\n",
       "      <td>2</td>\n",
       "      <td>15647311</td>\n",
       "      <td>Hill</td>\n",
       "      <td>608</td>\n",
       "      <td>Spain</td>\n",
       "      <td>Female</td>\n",
       "      <td>41</td>\n",
       "      <td>1.0</td>\n",
       "      <td>83807.86</td>\n",
       "      <td>1</td>\n",
       "      <td>0</td>\n",
       "      <td>1</td>\n",
       "      <td>112542.58</td>\n",
       "      <td>0</td>\n",
       "    </tr>\n",
       "    <tr>\n",
       "      <th>2</th>\n",
       "      <td>3</td>\n",
       "      <td>15619304</td>\n",
       "      <td>Onio</td>\n",
       "      <td>502</td>\n",
       "      <td>France</td>\n",
       "      <td>Female</td>\n",
       "      <td>42</td>\n",
       "      <td>8.0</td>\n",
       "      <td>159660.80</td>\n",
       "      <td>3</td>\n",
       "      <td>1</td>\n",
       "      <td>0</td>\n",
       "      <td>113931.57</td>\n",
       "      <td>1</td>\n",
       "    </tr>\n",
       "    <tr>\n",
       "      <th>3</th>\n",
       "      <td>4</td>\n",
       "      <td>15701354</td>\n",
       "      <td>Boni</td>\n",
       "      <td>699</td>\n",
       "      <td>France</td>\n",
       "      <td>Female</td>\n",
       "      <td>39</td>\n",
       "      <td>1.0</td>\n",
       "      <td>0.00</td>\n",
       "      <td>2</td>\n",
       "      <td>0</td>\n",
       "      <td>0</td>\n",
       "      <td>93826.63</td>\n",
       "      <td>0</td>\n",
       "    </tr>\n",
       "    <tr>\n",
       "      <th>4</th>\n",
       "      <td>5</td>\n",
       "      <td>15737888</td>\n",
       "      <td>Mitchell</td>\n",
       "      <td>850</td>\n",
       "      <td>Spain</td>\n",
       "      <td>Female</td>\n",
       "      <td>43</td>\n",
       "      <td>2.0</td>\n",
       "      <td>125510.82</td>\n",
       "      <td>1</td>\n",
       "      <td>1</td>\n",
       "      <td>1</td>\n",
       "      <td>79084.10</td>\n",
       "      <td>0</td>\n",
       "    </tr>\n",
       "  </tbody>\n",
       "</table>\n",
       "</div>"
      ],
      "text/plain": [
       "   RowNumber  CustomerId   Surname  CreditScore Geography  Gender  Age  \\\n",
       "0          1    15634602  Hargrave          619    France  Female   42   \n",
       "1          2    15647311      Hill          608     Spain  Female   41   \n",
       "2          3    15619304      Onio          502    France  Female   42   \n",
       "3          4    15701354      Boni          699    France  Female   39   \n",
       "4          5    15737888  Mitchell          850     Spain  Female   43   \n",
       "\n",
       "   Tenure    Balance  NumOfProducts  HasCrCard  IsActiveMember  \\\n",
       "0     2.0       0.00              1          1               1   \n",
       "1     1.0   83807.86              1          0               1   \n",
       "2     8.0  159660.80              3          1               0   \n",
       "3     1.0       0.00              2          0               0   \n",
       "4     2.0  125510.82              1          1               1   \n",
       "\n",
       "   EstimatedSalary  Exited  \n",
       "0        101348.88       1  \n",
       "1        112542.58       0  \n",
       "2        113931.57       1  \n",
       "3         93826.63       0  \n",
       "4         79084.10       0  "
      ]
     },
     "execution_count": 2,
     "metadata": {},
     "output_type": "execute_result"
    }
   ],
   "source": [
    "pth1 = '/datasets/Churn.csv'\n",
    "pth2 = '.\\Churn.csv'\n",
    "if os.path.exists(pth1):\n",
    "    df = pd.read_csv(pth1)\n",
    "elif os.path.exists(pth2):\n",
    "    df = pd.read_csv(pth2)\n",
    "else:\n",
    "    print('Something is wrong')\n",
    "df.head(5)"
   ]
  },
  {
   "cell_type": "code",
   "execution_count": 3,
   "metadata": {},
   "outputs": [
    {
     "name": "stdout",
     "output_type": "stream",
     "text": [
      "<class 'pandas.core.frame.DataFrame'>\n",
      "RangeIndex: 10000 entries, 0 to 9999\n",
      "Data columns (total 14 columns):\n",
      " #   Column           Non-Null Count  Dtype  \n",
      "---  ------           --------------  -----  \n",
      " 0   RowNumber        10000 non-null  int64  \n",
      " 1   CustomerId       10000 non-null  int64  \n",
      " 2   Surname          10000 non-null  object \n",
      " 3   CreditScore      10000 non-null  int64  \n",
      " 4   Geography        10000 non-null  object \n",
      " 5   Gender           10000 non-null  object \n",
      " 6   Age              10000 non-null  int64  \n",
      " 7   Tenure           9091 non-null   float64\n",
      " 8   Balance          10000 non-null  float64\n",
      " 9   NumOfProducts    10000 non-null  int64  \n",
      " 10  HasCrCard        10000 non-null  int64  \n",
      " 11  IsActiveMember   10000 non-null  int64  \n",
      " 12  EstimatedSalary  10000 non-null  float64\n",
      " 13  Exited           10000 non-null  int64  \n",
      "dtypes: float64(3), int64(8), object(3)\n",
      "memory usage: 1.1+ MB\n"
     ]
    }
   ],
   "source": [
    "df.info()"
   ]
  },
  {
   "cell_type": "code",
   "execution_count": 4,
   "metadata": {},
   "outputs": [],
   "source": [
    "#приведем названия столбцов к snake_case\n",
    "df.columns = df.columns.str.replace(r\"([A-Z])\", r\" \\1\", regex=True).str.lower().str.replace(' ', '_').str[1:]"
   ]
  },
  {
   "cell_type": "code",
   "execution_count": 5,
   "metadata": {},
   "outputs": [
    {
     "data": {
      "text/html": [
       "<div>\n",
       "<style scoped>\n",
       "    .dataframe tbody tr th:only-of-type {\n",
       "        vertical-align: middle;\n",
       "    }\n",
       "\n",
       "    .dataframe tbody tr th {\n",
       "        vertical-align: top;\n",
       "    }\n",
       "\n",
       "    .dataframe thead th {\n",
       "        text-align: right;\n",
       "    }\n",
       "</style>\n",
       "<table border=\"1\" class=\"dataframe\">\n",
       "  <thead>\n",
       "    <tr style=\"text-align: right;\">\n",
       "      <th></th>\n",
       "      <th>row_number</th>\n",
       "      <th>customer_id</th>\n",
       "      <th>surname</th>\n",
       "      <th>credit_score</th>\n",
       "      <th>geography</th>\n",
       "      <th>gender</th>\n",
       "      <th>age</th>\n",
       "      <th>tenure</th>\n",
       "      <th>balance</th>\n",
       "      <th>num_of_products</th>\n",
       "      <th>has_cr_card</th>\n",
       "      <th>is_active_member</th>\n",
       "      <th>estimated_salary</th>\n",
       "      <th>exited</th>\n",
       "    </tr>\n",
       "  </thead>\n",
       "  <tbody>\n",
       "    <tr>\n",
       "      <th>0</th>\n",
       "      <td>1</td>\n",
       "      <td>15634602</td>\n",
       "      <td>Hargrave</td>\n",
       "      <td>619</td>\n",
       "      <td>France</td>\n",
       "      <td>Female</td>\n",
       "      <td>42</td>\n",
       "      <td>2.0</td>\n",
       "      <td>0.00</td>\n",
       "      <td>1</td>\n",
       "      <td>1</td>\n",
       "      <td>1</td>\n",
       "      <td>101348.88</td>\n",
       "      <td>1</td>\n",
       "    </tr>\n",
       "    <tr>\n",
       "      <th>1</th>\n",
       "      <td>2</td>\n",
       "      <td>15647311</td>\n",
       "      <td>Hill</td>\n",
       "      <td>608</td>\n",
       "      <td>Spain</td>\n",
       "      <td>Female</td>\n",
       "      <td>41</td>\n",
       "      <td>1.0</td>\n",
       "      <td>83807.86</td>\n",
       "      <td>1</td>\n",
       "      <td>0</td>\n",
       "      <td>1</td>\n",
       "      <td>112542.58</td>\n",
       "      <td>0</td>\n",
       "    </tr>\n",
       "    <tr>\n",
       "      <th>2</th>\n",
       "      <td>3</td>\n",
       "      <td>15619304</td>\n",
       "      <td>Onio</td>\n",
       "      <td>502</td>\n",
       "      <td>France</td>\n",
       "      <td>Female</td>\n",
       "      <td>42</td>\n",
       "      <td>8.0</td>\n",
       "      <td>159660.80</td>\n",
       "      <td>3</td>\n",
       "      <td>1</td>\n",
       "      <td>0</td>\n",
       "      <td>113931.57</td>\n",
       "      <td>1</td>\n",
       "    </tr>\n",
       "  </tbody>\n",
       "</table>\n",
       "</div>"
      ],
      "text/plain": [
       "   row_number  customer_id   surname  credit_score geography  gender  age  \\\n",
       "0           1     15634602  Hargrave           619    France  Female   42   \n",
       "1           2     15647311      Hill           608     Spain  Female   41   \n",
       "2           3     15619304      Onio           502    France  Female   42   \n",
       "\n",
       "   tenure    balance  num_of_products  has_cr_card  is_active_member  \\\n",
       "0     2.0       0.00                1            1                 1   \n",
       "1     1.0   83807.86                1            0                 1   \n",
       "2     8.0  159660.80                3            1                 0   \n",
       "\n",
       "   estimated_salary  exited  \n",
       "0         101348.88       1  \n",
       "1         112542.58       0  \n",
       "2         113931.57       1  "
      ]
     },
     "execution_count": 5,
     "metadata": {},
     "output_type": "execute_result"
    }
   ],
   "source": [
    "df.head(3)"
   ]
  },
  {
   "cell_type": "code",
   "execution_count": 6,
   "metadata": {},
   "outputs": [
    {
     "data": {
      "text/plain": [
       "0"
      ]
     },
     "execution_count": 6,
     "metadata": {},
     "output_type": "execute_result"
    }
   ],
   "source": [
    "# проверим наличие дубликатов\n",
    "df.duplicated().sum()"
   ]
  },
  {
   "cell_type": "code",
   "execution_count": 7,
   "metadata": {
    "scrolled": true
   },
   "outputs": [
    {
     "data": {
      "text/plain": [
       "row_number            0\n",
       "customer_id           0\n",
       "surname               0\n",
       "credit_score          0\n",
       "geography             0\n",
       "gender                0\n",
       "age                   0\n",
       "tenure              909\n",
       "balance               0\n",
       "num_of_products       0\n",
       "has_cr_card           0\n",
       "is_active_member      0\n",
       "estimated_salary      0\n",
       "exited                0\n",
       "dtype: int64"
      ]
     },
     "execution_count": 7,
     "metadata": {},
     "output_type": "execute_result"
    }
   ],
   "source": [
    "df.isnull().sum()"
   ]
  },
  {
   "cell_type": "code",
   "execution_count": 8,
   "metadata": {},
   "outputs": [],
   "source": [
    "# удалим из датасета столбцы, которые не пригодятся для анализа\n",
    "df.drop(['row_number', 'customer_id', 'surname'], axis='columns',inplace=True)"
   ]
  },
  {
   "cell_type": "code",
   "execution_count": 9,
   "metadata": {},
   "outputs": [
    {
     "data": {
      "text/html": [
       "<div>\n",
       "<style scoped>\n",
       "    .dataframe tbody tr th:only-of-type {\n",
       "        vertical-align: middle;\n",
       "    }\n",
       "\n",
       "    .dataframe tbody tr th {\n",
       "        vertical-align: top;\n",
       "    }\n",
       "\n",
       "    .dataframe thead th {\n",
       "        text-align: right;\n",
       "    }\n",
       "</style>\n",
       "<table border=\"1\" class=\"dataframe\">\n",
       "  <thead>\n",
       "    <tr style=\"text-align: right;\">\n",
       "      <th></th>\n",
       "      <th>credit_score</th>\n",
       "      <th>geography</th>\n",
       "      <th>gender</th>\n",
       "      <th>age</th>\n",
       "      <th>tenure</th>\n",
       "      <th>balance</th>\n",
       "      <th>num_of_products</th>\n",
       "      <th>has_cr_card</th>\n",
       "      <th>is_active_member</th>\n",
       "      <th>estimated_salary</th>\n",
       "      <th>exited</th>\n",
       "    </tr>\n",
       "  </thead>\n",
       "  <tbody>\n",
       "    <tr>\n",
       "      <th>0</th>\n",
       "      <td>619</td>\n",
       "      <td>France</td>\n",
       "      <td>Female</td>\n",
       "      <td>42</td>\n",
       "      <td>2.0</td>\n",
       "      <td>0.00</td>\n",
       "      <td>1</td>\n",
       "      <td>1</td>\n",
       "      <td>1</td>\n",
       "      <td>101348.88</td>\n",
       "      <td>1</td>\n",
       "    </tr>\n",
       "    <tr>\n",
       "      <th>1</th>\n",
       "      <td>608</td>\n",
       "      <td>Spain</td>\n",
       "      <td>Female</td>\n",
       "      <td>41</td>\n",
       "      <td>1.0</td>\n",
       "      <td>83807.86</td>\n",
       "      <td>1</td>\n",
       "      <td>0</td>\n",
       "      <td>1</td>\n",
       "      <td>112542.58</td>\n",
       "      <td>0</td>\n",
       "    </tr>\n",
       "    <tr>\n",
       "      <th>2</th>\n",
       "      <td>502</td>\n",
       "      <td>France</td>\n",
       "      <td>Female</td>\n",
       "      <td>42</td>\n",
       "      <td>8.0</td>\n",
       "      <td>159660.80</td>\n",
       "      <td>3</td>\n",
       "      <td>1</td>\n",
       "      <td>0</td>\n",
       "      <td>113931.57</td>\n",
       "      <td>1</td>\n",
       "    </tr>\n",
       "    <tr>\n",
       "      <th>3</th>\n",
       "      <td>699</td>\n",
       "      <td>France</td>\n",
       "      <td>Female</td>\n",
       "      <td>39</td>\n",
       "      <td>1.0</td>\n",
       "      <td>0.00</td>\n",
       "      <td>2</td>\n",
       "      <td>0</td>\n",
       "      <td>0</td>\n",
       "      <td>93826.63</td>\n",
       "      <td>0</td>\n",
       "    </tr>\n",
       "    <tr>\n",
       "      <th>4</th>\n",
       "      <td>850</td>\n",
       "      <td>Spain</td>\n",
       "      <td>Female</td>\n",
       "      <td>43</td>\n",
       "      <td>2.0</td>\n",
       "      <td>125510.82</td>\n",
       "      <td>1</td>\n",
       "      <td>1</td>\n",
       "      <td>1</td>\n",
       "      <td>79084.10</td>\n",
       "      <td>0</td>\n",
       "    </tr>\n",
       "  </tbody>\n",
       "</table>\n",
       "</div>"
      ],
      "text/plain": [
       "   credit_score geography  gender  age  tenure    balance  num_of_products  \\\n",
       "0           619    France  Female   42     2.0       0.00                1   \n",
       "1           608     Spain  Female   41     1.0   83807.86                1   \n",
       "2           502    France  Female   42     8.0  159660.80                3   \n",
       "3           699    France  Female   39     1.0       0.00                2   \n",
       "4           850     Spain  Female   43     2.0  125510.82                1   \n",
       "\n",
       "   has_cr_card  is_active_member  estimated_salary  exited  \n",
       "0            1                 1         101348.88       1  \n",
       "1            0                 1         112542.58       0  \n",
       "2            1                 0         113931.57       1  \n",
       "3            0                 0          93826.63       0  \n",
       "4            1                 1          79084.10       0  "
      ]
     },
     "execution_count": 9,
     "metadata": {},
     "output_type": "execute_result"
    }
   ],
   "source": [
    "df.head()"
   ]
  },
  {
   "cell_type": "code",
   "execution_count": 10,
   "metadata": {
    "id": "bhSpJfthcPs9"
   },
   "outputs": [
    {
     "data": {
      "text/plain": [
       "1.0     952\n",
       "2.0     950\n",
       "8.0     933\n",
       "3.0     928\n",
       "5.0     927\n",
       "7.0     925\n",
       "4.0     885\n",
       "9.0     882\n",
       "6.0     881\n",
       "10.0    446\n",
       "0.0     382\n",
       "Name: tenure, dtype: int64"
      ]
     },
     "execution_count": 10,
     "metadata": {},
     "output_type": "execute_result"
    }
   ],
   "source": [
    "# в столбце Tenure большое количество пропусков, посмотрим как в нем распределены значения\n",
    "df['tenure'].value_counts()"
   ]
  },
  {
   "cell_type": "code",
   "execution_count": 11,
   "metadata": {},
   "outputs": [
    {
     "data": {
      "text/plain": [
       "909"
      ]
     },
     "execution_count": 11,
     "metadata": {},
     "output_type": "execute_result"
    }
   ],
   "source": [
    "df['tenure'].isnull().sum()"
   ]
  },
  {
   "cell_type": "code",
   "execution_count": 12,
   "metadata": {},
   "outputs": [
    {
     "data": {
      "image/png": "[encoded data removed]",
      "text/plain": [
       "<Figure size 432x288 with 1 Axes>"
      ]
     },
     "metadata": {
      "needs_background": "light"
     },
     "output_type": "display_data"
    }
   ],
   "source": [
    "df['tenure'].value_counts(sort = True).plot.bar(figsize=(6, 4))\n",
    "plt.grid(axis='y')"
   ]
  },
  {
   "cell_type": "markdown",
   "metadata": {},
   "source": [
    "Заменим пропущенные значения случйными числами от 1 до 10"
   ]
  },
  {
   "cell_type": "code",
   "execution_count": 13,
   "metadata": {},
   "outputs": [],
   "source": [
    "random.seed(11)"
   ]
  },
  {
   "cell_type": "code",
   "execution_count": 14,
   "metadata": {},
   "outputs": [],
   "source": [
    "df['tenure'] = df['tenure'].fillna(df['tenure'].apply(lambda x: random.randrange(0, 11, 1))).astype('int') "
   ]
  },
  {
   "cell_type": "code",
   "execution_count": 15,
   "metadata": {},
   "outputs": [
    {
     "name": "stdout",
     "output_type": "stream",
     "text": [
      "<class 'pandas.core.frame.DataFrame'>\n",
      "RangeIndex: 10000 entries, 0 to 9999\n",
      "Data columns (total 11 columns):\n",
      " #   Column            Non-Null Count  Dtype  \n",
      "---  ------            --------------  -----  \n",
      " 0   credit_score      10000 non-null  int64  \n",
      " 1   geography         10000 non-null  object \n",
      " 2   gender            10000 non-null  object \n",
      " 3   age               10000 non-null  int64  \n",
      " 4   tenure            10000 non-null  int32  \n",
      " 5   balance           10000 non-null  float64\n",
      " 6   num_of_products   10000 non-null  int64  \n",
      " 7   has_cr_card       10000 non-null  int64  \n",
      " 8   is_active_member  10000 non-null  int64  \n",
      " 9   estimated_salary  10000 non-null  float64\n",
      " 10  exited            10000 non-null  int64  \n",
      "dtypes: float64(2), int32(1), int64(6), object(2)\n",
      "memory usage: 820.4+ KB\n"
     ]
    }
   ],
   "source": [
    "df.info()"
   ]
  },
  {
   "cell_type": "code",
   "execution_count": 16,
   "metadata": {},
   "outputs": [
    {
     "data": {
      "text/html": [
       "<div>\n",
       "<style scoped>\n",
       "    .dataframe tbody tr th:only-of-type {\n",
       "        vertical-align: middle;\n",
       "    }\n",
       "\n",
       "    .dataframe tbody tr th {\n",
       "        vertical-align: top;\n",
       "    }\n",
       "\n",
       "    .dataframe thead th {\n",
       "        text-align: right;\n",
       "    }\n",
       "</style>\n",
       "<table border=\"1\" class=\"dataframe\">\n",
       "  <thead>\n",
       "    <tr style=\"text-align: right;\">\n",
       "      <th></th>\n",
       "      <th>credit_score</th>\n",
       "      <th>age</th>\n",
       "      <th>tenure</th>\n",
       "      <th>balance</th>\n",
       "      <th>num_of_products</th>\n",
       "      <th>has_cr_card</th>\n",
       "      <th>is_active_member</th>\n",
       "      <th>estimated_salary</th>\n",
       "      <th>exited</th>\n",
       "    </tr>\n",
       "  </thead>\n",
       "  <tbody>\n",
       "    <tr>\n",
       "      <th>count</th>\n",
       "      <td>10000.000000</td>\n",
       "      <td>10000.000000</td>\n",
       "      <td>10000.000000</td>\n",
       "      <td>10000.000000</td>\n",
       "      <td>10000.000000</td>\n",
       "      <td>10000.00000</td>\n",
       "      <td>10000.000000</td>\n",
       "      <td>10000.000000</td>\n",
       "      <td>10000.000000</td>\n",
       "    </tr>\n",
       "    <tr>\n",
       "      <th>mean</th>\n",
       "      <td>650.528800</td>\n",
       "      <td>38.921800</td>\n",
       "      <td>4.985600</td>\n",
       "      <td>76485.889288</td>\n",
       "      <td>1.530200</td>\n",
       "      <td>0.70550</td>\n",
       "      <td>0.515100</td>\n",
       "      <td>100090.239881</td>\n",
       "      <td>0.203700</td>\n",
       "    </tr>\n",
       "    <tr>\n",
       "      <th>std</th>\n",
       "      <td>96.653299</td>\n",
       "      <td>10.487806</td>\n",
       "      <td>2.921857</td>\n",
       "      <td>62397.405202</td>\n",
       "      <td>0.581654</td>\n",
       "      <td>0.45584</td>\n",
       "      <td>0.499797</td>\n",
       "      <td>57510.492818</td>\n",
       "      <td>0.402769</td>\n",
       "    </tr>\n",
       "    <tr>\n",
       "      <th>min</th>\n",
       "      <td>350.000000</td>\n",
       "      <td>18.000000</td>\n",
       "      <td>0.000000</td>\n",
       "      <td>0.000000</td>\n",
       "      <td>1.000000</td>\n",
       "      <td>0.00000</td>\n",
       "      <td>0.000000</td>\n",
       "      <td>11.580000</td>\n",
       "      <td>0.000000</td>\n",
       "    </tr>\n",
       "    <tr>\n",
       "      <th>25%</th>\n",
       "      <td>584.000000</td>\n",
       "      <td>32.000000</td>\n",
       "      <td>2.000000</td>\n",
       "      <td>0.000000</td>\n",
       "      <td>1.000000</td>\n",
       "      <td>0.00000</td>\n",
       "      <td>0.000000</td>\n",
       "      <td>51002.110000</td>\n",
       "      <td>0.000000</td>\n",
       "    </tr>\n",
       "    <tr>\n",
       "      <th>50%</th>\n",
       "      <td>652.000000</td>\n",
       "      <td>37.000000</td>\n",
       "      <td>5.000000</td>\n",
       "      <td>97198.540000</td>\n",
       "      <td>1.000000</td>\n",
       "      <td>1.00000</td>\n",
       "      <td>1.000000</td>\n",
       "      <td>100193.915000</td>\n",
       "      <td>0.000000</td>\n",
       "    </tr>\n",
       "    <tr>\n",
       "      <th>75%</th>\n",
       "      <td>718.000000</td>\n",
       "      <td>44.000000</td>\n",
       "      <td>7.000000</td>\n",
       "      <td>127644.240000</td>\n",
       "      <td>2.000000</td>\n",
       "      <td>1.00000</td>\n",
       "      <td>1.000000</td>\n",
       "      <td>149388.247500</td>\n",
       "      <td>0.000000</td>\n",
       "    </tr>\n",
       "    <tr>\n",
       "      <th>max</th>\n",
       "      <td>850.000000</td>\n",
       "      <td>92.000000</td>\n",
       "      <td>10.000000</td>\n",
       "      <td>250898.090000</td>\n",
       "      <td>4.000000</td>\n",
       "      <td>1.00000</td>\n",
       "      <td>1.000000</td>\n",
       "      <td>199992.480000</td>\n",
       "      <td>1.000000</td>\n",
       "    </tr>\n",
       "  </tbody>\n",
       "</table>\n",
       "</div>"
      ],
      "text/plain": [
       "       credit_score           age        tenure        balance  \\\n",
       "count  10000.000000  10000.000000  10000.000000   10000.000000   \n",
       "mean     650.528800     38.921800      4.985600   76485.889288   \n",
       "std       96.653299     10.487806      2.921857   62397.405202   \n",
       "min      350.000000     18.000000      0.000000       0.000000   \n",
       "25%      584.000000     32.000000      2.000000       0.000000   \n",
       "50%      652.000000     37.000000      5.000000   97198.540000   \n",
       "75%      718.000000     44.000000      7.000000  127644.240000   \n",
       "max      850.000000     92.000000     10.000000  250898.090000   \n",
       "\n",
       "       num_of_products  has_cr_card  is_active_member  estimated_salary  \\\n",
       "count     10000.000000  10000.00000      10000.000000      10000.000000   \n",
       "mean          1.530200      0.70550          0.515100     100090.239881   \n",
       "std           0.581654      0.45584          0.499797      57510.492818   \n",
       "min           1.000000      0.00000          0.000000         11.580000   \n",
       "25%           1.000000      0.00000          0.000000      51002.110000   \n",
       "50%           1.000000      1.00000          1.000000     100193.915000   \n",
       "75%           2.000000      1.00000          1.000000     149388.247500   \n",
       "max           4.000000      1.00000          1.000000     199992.480000   \n",
       "\n",
       "             exited  \n",
       "count  10000.000000  \n",
       "mean       0.203700  \n",
       "std        0.402769  \n",
       "min        0.000000  \n",
       "25%        0.000000  \n",
       "50%        0.000000  \n",
       "75%        0.000000  \n",
       "max        1.000000  "
      ]
     },
     "execution_count": 16,
     "metadata": {},
     "output_type": "execute_result"
    }
   ],
   "source": [
    "df.describe()"
   ]
  },
  {
   "cell_type": "code",
   "execution_count": 17,
   "metadata": {},
   "outputs": [
    {
     "data": {
      "text/plain": [
       "array([[<AxesSubplot:title={'center':'credit_score'}>,\n",
       "        <AxesSubplot:title={'center':'age'}>,\n",
       "        <AxesSubplot:title={'center':'tenure'}>],\n",
       "       [<AxesSubplot:title={'center':'balance'}>,\n",
       "        <AxesSubplot:title={'center':'num_of_products'}>,\n",
       "        <AxesSubplot:title={'center':'has_cr_card'}>],\n",
       "       [<AxesSubplot:title={'center':'is_active_member'}>,\n",
       "        <AxesSubplot:title={'center':'estimated_salary'}>,\n",
       "        <AxesSubplot:title={'center':'exited'}>]], dtype=object)"
      ]
     },
     "execution_count": 17,
     "metadata": {},
     "output_type": "execute_result"
    },
    {
     "data": {
      "image/png": "[encoded data removed]",
      "text/plain": [
       "<Figure size 1296x720 with 9 Axes>"
      ]
     },
     "metadata": {
      "needs_background": "light"
     },
     "output_type": "display_data"
    }
   ],
   "source": [
    "# посмотрим на распределения признаков\n",
    "df.hist(figsize=(18, 10))"
   ]
  },
  {
   "cell_type": "markdown",
   "metadata": {},
   "source": [
    "**Посмотрим распределение целевой переменной**"
   ]
  },
  {
   "cell_type": "code",
   "execution_count": 18,
   "metadata": {},
   "outputs": [
    {
     "data": {
      "image/png": "[encoded data removed]",
      "text/plain": [
       "<Figure size 432x288 with 1 Axes>"
      ]
     },
     "metadata": {
      "needs_background": "light"
     },
     "output_type": "display_data"
    }
   ],
   "source": [
    "df['exited'].value_counts().plot.bar(figsize=(6, 4))\n",
    "plt.grid(axis='y')"
   ]
  },
  {
   "cell_type": "code",
   "execution_count": 19,
   "metadata": {},
   "outputs": [
    {
     "data": {
      "text/plain": [
       "0    0.7963\n",
       "1    0.2037\n",
       "Name: exited, dtype: float64"
      ]
     },
     "execution_count": 19,
     "metadata": {},
     "output_type": "execute_result"
    }
   ],
   "source": [
    "df['exited'].value_counts(normalize=True)"
   ]
  },
  {
   "cell_type": "markdown",
   "metadata": {},
   "source": [
    "**В представленном датасете наблюдается явный дисбаланс классов. Здесь же можно представить наш baseline качества, с которым можно будет сравнивать результаты работы модели. Если у нас 80% одного класса и 20% другого, то даже если наша модель будет предсказывать только No, то accuracy будет равна, в среднем, 80%.\n",
    "Для начала попробуем поработать с этими данными и посмотреь какое качество даст модель. Следующим шагом учтем дисбаланс классов и посмотрим получившиеся метрики.** "
   ]
  },
  {
   "cell_type": "code",
   "execution_count": 20,
   "metadata": {},
   "outputs": [],
   "source": [
    "#уберем из датасете целевую переменную и закодируем категориальные признаки техникой OHE\n",
    "target = df['exited']\n",
    "data_ohe = pd.get_dummies(df, drop_first=True)\n",
    "features = data_ohe.drop('exited', axis=1)"
   ]
  },
  {
   "cell_type": "markdown",
   "metadata": {},
   "source": [
    "Разобьем данные на тестовую, тренировочную и валидационную выборки. Поскольку в датасете присутствует дисбаланс классов, укажем параметр stratify, чтобы соблюсти баланс классов в выборках."
   ]
  },
  {
   "cell_type": "code",
   "execution_count": 21,
   "metadata": {},
   "outputs": [],
   "source": [
    "# для начала выделим 60% данных для тренировочной выбрки\n",
    "features_train, features_other, target_train, target_other = train_test_split(features,\n",
    "                                                    target,\n",
    "                                                    test_size=0.40,\n",
    "                                                    shuffle=True,\n",
    "                                                    stratify=target,\n",
    "                                                    random_state=48)"
   ]
  },
  {
   "cell_type": "code",
   "execution_count": 22,
   "metadata": {},
   "outputs": [
    {
     "name": "stdout",
     "output_type": "stream",
     "text": [
      "features_train dimension=  (6000, 11)\n",
      "features_other dimension=  (4000, 11)\n",
      "y_train dimension=  (6000,)\n",
      "y_other dimension=  (4000,)\n"
     ]
    }
   ],
   "source": [
    "print('features_train dimension= ', features_train.shape)\n",
    "print('features_other dimension= ', features_other.shape)\n",
    "print('y_train dimension= ', target_train.shape)\n",
    "print('y_other dimension= ', target_other.shape)"
   ]
  },
  {
   "cell_type": "code",
   "execution_count": 23,
   "metadata": {},
   "outputs": [],
   "source": [
    "#теперь разделим оставшиеся данные пополам на тетовую и валидационную выборки (таким образом получим соотношение 60% 20% 20%)\n",
    "features_val, features_test, target_val, target_test = train_test_split(features_other,\n",
    "                                                target_other,\n",
    "                                                test_size=0.50,\n",
    "                                                shuffle=True,\n",
    "                                                stratify=target_other,\n",
    "                                                random_state=48)"
   ]
  },
  {
   "cell_type": "code",
   "execution_count": 24,
   "metadata": {},
   "outputs": [
    {
     "name": "stdout",
     "output_type": "stream",
     "text": [
      "features_val dimension=  (2000, 11)\n",
      "features_test dimension=  (2000, 11)\n",
      "y_val dimension=  (2000,)\n",
      "y_test dimension=  (2000,)\n"
     ]
    }
   ],
   "source": [
    "print('features_val dimension= ', features_val.shape)\n",
    "print('features_test dimension= ', features_test.shape)\n",
    "print('y_val dimension= ', target_val.shape)\n",
    "print('y_test dimension= ', target_test.shape)"
   ]
  },
  {
   "cell_type": "markdown",
   "metadata": {},
   "source": [
    "## 2. Исследование задачи"
   ]
  },
  {
   "cell_type": "markdown",
   "metadata": {},
   "source": [
    "Предварительно отмасштабируем данные скеллером "
   ]
  },
  {
   "cell_type": "code",
   "execution_count": 25,
   "metadata": {},
   "outputs": [],
   "source": [
    "df = df.drop('exited', axis=1)"
   ]
  },
  {
   "cell_type": "code",
   "execution_count": 26,
   "metadata": {},
   "outputs": [
    {
     "name": "stderr",
     "output_type": "stream",
     "text": [
      "<ipython-input-26-83f9eb7f1c20>:4: SettingWithCopyWarning: \n",
      "A value is trying to be set on a copy of a slice from a DataFrame.\n",
      "Try using .loc[row_indexer,col_indexer] = value instead\n",
      "\n",
      "See the caveats in the documentation: https://pandas.pydata.org/pandas-docs/stable/user_guide/indexing.html#returning-a-view-versus-a-copy\n",
      "  features_train[num_col] = scaler.fit_transform(features_train[num_col])\n",
      "C:\\Users\\Lenin\\anaconda3\\lib\\site-packages\\pandas\\core\\indexing.py:1738: SettingWithCopyWarning: \n",
      "A value is trying to be set on a copy of a slice from a DataFrame.\n",
      "Try using .loc[row_indexer,col_indexer] = value instead\n",
      "\n",
      "See the caveats in the documentation: https://pandas.pydata.org/pandas-docs/stable/user_guide/indexing.html#returning-a-view-versus-a-copy\n",
      "  self._setitem_single_column(loc, value[:, i].tolist(), pi)\n",
      "<ipython-input-26-83f9eb7f1c20>:5: SettingWithCopyWarning: \n",
      "A value is trying to be set on a copy of a slice from a DataFrame.\n",
      "Try using .loc[row_indexer,col_indexer] = value instead\n",
      "\n",
      "See the caveats in the documentation: https://pandas.pydata.org/pandas-docs/stable/user_guide/indexing.html#returning-a-view-versus-a-copy\n",
      "  features_val[num_col] = scaler.transform(features_val[num_col])\n",
      "C:\\Users\\Lenin\\anaconda3\\lib\\site-packages\\pandas\\core\\indexing.py:1738: SettingWithCopyWarning: \n",
      "A value is trying to be set on a copy of a slice from a DataFrame.\n",
      "Try using .loc[row_indexer,col_indexer] = value instead\n",
      "\n",
      "See the caveats in the documentation: https://pandas.pydata.org/pandas-docs/stable/user_guide/indexing.html#returning-a-view-versus-a-copy\n",
      "  self._setitem_single_column(loc, value[:, i].tolist(), pi)\n",
      "<ipython-input-26-83f9eb7f1c20>:6: SettingWithCopyWarning: \n",
      "A value is trying to be set on a copy of a slice from a DataFrame.\n",
      "Try using .loc[row_indexer,col_indexer] = value instead\n",
      "\n",
      "See the caveats in the documentation: https://pandas.pydata.org/pandas-docs/stable/user_guide/indexing.html#returning-a-view-versus-a-copy\n",
      "  features_test[num_col] = scaler.transform(features_test[num_col])\n",
      "C:\\Users\\Lenin\\anaconda3\\lib\\site-packages\\pandas\\core\\indexing.py:1738: SettingWithCopyWarning: \n",
      "A value is trying to be set on a copy of a slice from a DataFrame.\n",
      "Try using .loc[row_indexer,col_indexer] = value instead\n",
      "\n",
      "See the caveats in the documentation: https://pandas.pydata.org/pandas-docs/stable/user_guide/indexing.html#returning-a-view-versus-a-copy\n",
      "  self._setitem_single_column(loc, value[:, i].tolist(), pi)\n"
     ]
    }
   ],
   "source": [
    "num_col = [col for col in df.columns if df[col].dtype != 'object']\n",
    "\n",
    "scaler = MinMaxScaler()\n",
    "features_train[num_col] = scaler.fit_transform(features_train[num_col])\n",
    "features_val[num_col] = scaler.transform(features_val[num_col])\n",
    "features_test[num_col] = scaler.transform(features_test[num_col])"
   ]
  },
  {
   "cell_type": "markdown",
   "metadata": {},
   "source": [
    "Обучим на наших данных несколько различных моделей, подберем оптимальные гиперпараметры и сравним значения метрики f1."
   ]
  },
  {
   "cell_type": "markdown",
   "metadata": {},
   "source": [
    "### LogisticRegression"
   ]
  },
  {
   "cell_type": "code",
   "execution_count": 27,
   "metadata": {},
   "outputs": [
    {
     "name": "stdout",
     "output_type": "stream",
     "text": [
      "f1 наилучшей модели на валидационной выборке: 0.3217550274223035\n",
      "Лучшие параметры LogisticRegression(C=1.001, max_iter=10000, random_state=12345,\n",
      "                   solver='liblinear')\n"
     ]
    }
   ],
   "source": [
    "best_model = None\n",
    "best_result = 0\n",
    "for p in ['l1', 'l2']:\n",
    "    for c in np.arange(0.001, 10.0, 1):\n",
    "        model = LogisticRegression(random_state=12345, penalty= p, C = c, max_iter=10000, solver='liblinear') \n",
    "        model.fit(features_train, target_train) \n",
    "        result = f1_score(target_val, model.predict(features_val)) \n",
    "        if result > best_result:\n",
    "            best_model = model \n",
    "            best_result = result \n",
    "\n",
    "print(\"f1 наилучшей модели на валидационной выборке:\", best_result)\n",
    "print(\"Лучшие параметры\", best_model)"
   ]
  },
  {
   "cell_type": "markdown",
   "metadata": {},
   "source": [
    "### Decision Tree"
   ]
  },
  {
   "cell_type": "code",
   "execution_count": 28,
   "metadata": {},
   "outputs": [
    {
     "name": "stdout",
     "output_type": "stream",
     "text": [
      "f1 наилучшей модели на валидационной выборке: 0.5982658959537572\n",
      "Лучшие параметры DecisionTreeClassifier(max_depth=5, random_state=12345) entropy\n"
     ]
    }
   ],
   "source": [
    "best_model = None\n",
    "best_result = 0\n",
    "best_crit = None\n",
    "\n",
    "for crit in ['gini', 'entropy']:\n",
    "    for depth in range(1, 15):\n",
    "        model = DecisionTreeClassifier(random_state=12345, criterion = crit, max_depth=depth) \n",
    "        model.fit(features_train, target_train) \n",
    "        result = f1_score(target_val, model.predict(features_val)) \n",
    "        if result > best_result:\n",
    "            best_model = model \n",
    "            best_result = result \n",
    "            best_crit = crit\n",
    "\n",
    "print(\"f1 наилучшей модели на валидационной выборке:\", best_result)\n",
    "print(\"Лучшие параметры\", best_model, crit)"
   ]
  },
  {
   "cell_type": "markdown",
   "metadata": {},
   "source": [
    "### RandomForestClassifier"
   ]
  },
  {
   "cell_type": "code",
   "execution_count": 29,
   "metadata": {},
   "outputs": [
    {
     "name": "stdout",
     "output_type": "stream",
     "text": [
      "f1 наилучшей модели на валидационной выборке: 0.599388379204893\n",
      "Лучшие параметры RandomForestClassifier(max_depth=20, n_estimators=250, random_state=12345)\n",
      "Wall time: 53.4 s\n"
     ]
    }
   ],
   "source": [
    "%%time\n",
    "best_model = None\n",
    "best_result = 0\n",
    "\n",
    "for max_dep in [1, 5, 10, 15, 20]:\n",
    "    for est in [50, 75, 100, 125, 150, 200, 250, 300, 400]:\n",
    "        model = RandomForestClassifier(random_state=12345, max_depth=max_dep, n_estimators = est) \n",
    "        model.fit(features_train, target_train) \n",
    "        result = f1_score(target_val, model.predict(features_val)) \n",
    "        if result > best_result:\n",
    "            best_model = model \n",
    "            best_result = result \n",
    "\n",
    "print(\"f1 наилучшей модели на валидационной выборке:\", best_result)\n",
    "print(\"Лучшие параметры\", best_model)"
   ]
  },
  {
   "cell_type": "markdown",
   "metadata": {},
   "source": [
    "**Наибольшее значение метрики f1 (0.6) показала модель RandomForestClassifier(max_depth=20, n_estimators=250, random_state=12345). Попробуем улучшить качество, учитывая дисбаланс классов.**"
   ]
  },
  {
   "cell_type": "markdown",
   "metadata": {},
   "source": [
    "## 3. Борьба с дисбалансом"
   ]
  },
  {
   "cell_type": "markdown",
   "metadata": {},
   "source": [
    "* ### class_weight"
   ]
  },
  {
   "cell_type": "markdown",
   "metadata": {},
   "source": [
    "Изменим веса классов с помощью class_weight='balanced' и снова подберем гиперпараметры"
   ]
  },
  {
   "cell_type": "markdown",
   "metadata": {},
   "source": [
    "**LogisticRegression**"
   ]
  },
  {
   "cell_type": "code",
   "execution_count": 30,
   "metadata": {},
   "outputs": [
    {
     "name": "stdout",
     "output_type": "stream",
     "text": [
      "f1 наилучшей модели на валидационной выборке: 0.5083260297984225\n",
      "Лучшие параметры LogisticRegression(C=3.001, class_weight='balanced', max_iter=10000,\n",
      "                   random_state=12345, solver='liblinear')\n"
     ]
    }
   ],
   "source": [
    "best_model = None\n",
    "best_result = 0\n",
    "for p in ['l1', 'l2']:\n",
    "    for c in np.arange(0.001, 10.0, 0.5):\n",
    "        model = LogisticRegression(random_state=12345, penalty= p, C = c, max_iter=10000, solver='liblinear', class_weight='balanced') \n",
    "        model.fit(features_train, target_train) \n",
    "        result = f1_score(target_val, model.predict(features_val)) \n",
    "        if result > best_result:\n",
    "            best_model = model \n",
    "            best_result = result \n",
    "\n",
    "print(\"f1 наилучшей модели на валидационной выборке:\", best_result)\n",
    "print(\"Лучшие параметры\", best_model)"
   ]
  },
  {
   "cell_type": "markdown",
   "metadata": {},
   "source": [
    "С помощью этого метода f1 значительно увеличилась - на 0.19."
   ]
  },
  {
   "cell_type": "markdown",
   "metadata": {},
   "source": [
    "**DecisionTreeClassifier**"
   ]
  },
  {
   "cell_type": "code",
   "execution_count": 31,
   "metadata": {},
   "outputs": [
    {
     "name": "stdout",
     "output_type": "stream",
     "text": [
      "f1 наилучшей модели на валидационной выборке: 0.5784418356456776\n",
      "Лучшие параметры DecisionTreeClassifier(class_weight='balanced', max_depth=8, random_state=12345) entropy\n"
     ]
    }
   ],
   "source": [
    "best_model = None\n",
    "best_result = 0\n",
    "best_crit = None\n",
    "\n",
    "for crit in ['gini', 'entropy']:\n",
    "    for depth in range(1, 15):\n",
    "        model = DecisionTreeClassifier(random_state=12345, criterion = crit, max_depth=depth, class_weight='balanced') \n",
    "        model.fit(features_train, target_train) \n",
    "        result = f1_score(target_val, model.predict(features_val)) \n",
    "        if result > best_result:\n",
    "            best_model = model \n",
    "            best_result = result \n",
    "            best_crit = crit\n",
    "\n",
    "print(\"f1 наилучшей модели на валидационной выборке:\", best_result)\n",
    "print(\"Лучшие параметры\", best_model, crit)"
   ]
  },
  {
   "cell_type": "markdown",
   "metadata": {},
   "source": [
    "при добавлении баланса классов значение f1 уменьшилось на 0.01"
   ]
  },
  {
   "cell_type": "code",
   "execution_count": 32,
   "metadata": {},
   "outputs": [
    {
     "name": "stdout",
     "output_type": "stream",
     "text": [
      "f1 наилучшей модели на валидационной выборке: 0.5937961595273265\n",
      "Лучшие параметры RandomForestClassifier(class_weight={0: 1, 1: 0.25575554625366265},\n",
      "                       max_depth=20, n_estimators=125, random_state=12345)\n",
      "Wall time: 57.6 s\n"
     ]
    }
   ],
   "source": [
    "%%time\n",
    "best_model = None\n",
    "best_result = 0\n",
    "positive_weight = sum(target_train == 1) / sum(target_train == 0)\n",
    "for max_dep in [1, 5, 10, 15, 20]:\n",
    "    for est in [10, 20, 50, 75, 100, 125, 150, 200, 250, 300, 400]:\n",
    "        model = RandomForestClassifier(random_state=12345, max_depth=max_dep, n_estimators = est, class_weight = {0 : 1, 1 : positive_weight}) \n",
    "        model.fit(features_train, target_train) \n",
    "        result = f1_score(target_val, model.predict(features_val)) \n",
    "        if result > best_result:\n",
    "            best_model = model \n",
    "            best_result = result \n",
    "\n",
    "print(\"f1 наилучшей модели на валидационной выборке:\", best_result)\n",
    "print(\"Лучшие параметры\", best_model)"
   ]
  },
  {
   "cell_type": "markdown",
   "metadata": {},
   "source": [
    "с использование баланса весом класса значение f1 модели RandomForestClassifier не изменилось"
   ]
  },
  {
   "cell_type": "markdown",
   "metadata": {},
   "source": [
    "* ### Upsampling of minority class"
   ]
  },
  {
   "cell_type": "markdown",
   "metadata": {},
   "source": [
    "напишем функцию, которая копирует объекты минорного класса"
   ]
  },
  {
   "cell_type": "code",
   "execution_count": 33,
   "metadata": {},
   "outputs": [],
   "source": [
    "def upsample(features, target, repeat):\n",
    "    features_zeros = features[target == 0]\n",
    "    features_ones = features[target == 1]\n",
    "    target_zeros = target[target == 0]\n",
    "    target_ones = target[target == 1]\n",
    "\n",
    "    features_upsampled = pd.concat([features_zeros] + [features_ones] * repeat)\n",
    "    target_upsampled = pd.concat([target_zeros] + [target_ones] * repeat)\n",
    "    \n",
    "    features_upsampled, target_upsampled = shuffle(\n",
    "        features_upsampled, target_upsampled, random_state=12345)\n",
    "    \n",
    "    return features_upsampled, target_upsampled\n"
   ]
  },
  {
   "cell_type": "code",
   "execution_count": 34,
   "metadata": {},
   "outputs": [],
   "source": [
    "features_upsampled, target_upsampled = upsample(features_train, target_train, 4)"
   ]
  },
  {
   "cell_type": "code",
   "execution_count": 35,
   "metadata": {},
   "outputs": [
    {
     "name": "stderr",
     "output_type": "stream",
     "text": [
      "<ipython-input-35-83a1d9b7694b>:3: SettingWithCopyWarning: \n",
      "A value is trying to be set on a copy of a slice from a DataFrame.\n",
      "Try using .loc[row_indexer,col_indexer] = value instead\n",
      "\n",
      "See the caveats in the documentation: https://pandas.pydata.org/pandas-docs/stable/user_guide/indexing.html#returning-a-view-versus-a-copy\n",
      "  features_val[num_col] = scaler.transform(features_val[num_col])\n",
      "C:\\Users\\Lenin\\anaconda3\\lib\\site-packages\\pandas\\core\\indexing.py:1738: SettingWithCopyWarning: \n",
      "A value is trying to be set on a copy of a slice from a DataFrame.\n",
      "Try using .loc[row_indexer,col_indexer] = value instead\n",
      "\n",
      "See the caveats in the documentation: https://pandas.pydata.org/pandas-docs/stable/user_guide/indexing.html#returning-a-view-versus-a-copy\n",
      "  self._setitem_single_column(loc, value[:, i].tolist(), pi)\n",
      "<ipython-input-35-83a1d9b7694b>:4: SettingWithCopyWarning: \n",
      "A value is trying to be set on a copy of a slice from a DataFrame.\n",
      "Try using .loc[row_indexer,col_indexer] = value instead\n",
      "\n",
      "See the caveats in the documentation: https://pandas.pydata.org/pandas-docs/stable/user_guide/indexing.html#returning-a-view-versus-a-copy\n",
      "  features_test[num_col] = scaler.transform(features_test[num_col])\n",
      "C:\\Users\\Lenin\\anaconda3\\lib\\site-packages\\pandas\\core\\indexing.py:1738: SettingWithCopyWarning: \n",
      "A value is trying to be set on a copy of a slice from a DataFrame.\n",
      "Try using .loc[row_indexer,col_indexer] = value instead\n",
      "\n",
      "See the caveats in the documentation: https://pandas.pydata.org/pandas-docs/stable/user_guide/indexing.html#returning-a-view-versus-a-copy\n",
      "  self._setitem_single_column(loc, value[:, i].tolist(), pi)\n"
     ]
    }
   ],
   "source": [
    "scaler = MinMaxScaler()\n",
    "features_upsampled[num_col] = scaler.fit_transform(features_upsampled[num_col])\n",
    "features_val[num_col] = scaler.transform(features_val[num_col])\n",
    "features_test[num_col] = scaler.transform(features_test[num_col])"
   ]
  },
  {
   "cell_type": "markdown",
   "metadata": {},
   "source": [
    "**LogisticRegression**"
   ]
  },
  {
   "cell_type": "code",
   "execution_count": 36,
   "metadata": {},
   "outputs": [
    {
     "name": "stdout",
     "output_type": "stream",
     "text": [
      "f1 наилучшей модели на валидационной выборке: 0.5043177892918825\n",
      "Лучшие параметры LogisticRegression(C=0.501, max_iter=10000, penalty='l1', random_state=12345,\n",
      "                   solver='liblinear')\n"
     ]
    }
   ],
   "source": [
    "best_model = None\n",
    "best_result = 0\n",
    "for p in ['l1', 'l2']:\n",
    "    for c in np.arange(0.001, 10.0, 0.5):\n",
    "        model = LogisticRegression(random_state=12345, penalty= p, C = c, max_iter=10000, solver='liblinear') \n",
    "        model.fit(features_upsampled, target_upsampled) \n",
    "        result = f1_score(target_val, model.predict(features_val)) \n",
    "        if result > best_result:\n",
    "            best_model = model \n",
    "            best_result = result \n",
    "\n",
    "print(\"f1 наилучшей модели на валидационной выборке:\", best_result)\n",
    "print(\"Лучшие параметры\", best_model)"
   ]
  },
  {
   "cell_type": "markdown",
   "metadata": {},
   "source": [
    "Для логистической регресси за счет данного метода значение f1 увеличилось на 0.18. "
   ]
  },
  {
   "cell_type": "markdown",
   "metadata": {},
   "source": [
    "**DecisionTreeClassifier**"
   ]
  },
  {
   "cell_type": "code",
   "execution_count": 37,
   "metadata": {},
   "outputs": [
    {
     "name": "stdout",
     "output_type": "stream",
     "text": [
      "f1 наилучшей модели на валидационной выборке: 0.5778251599147121\n",
      "Лучшие параметры DecisionTreeClassifier(max_depth=8, random_state=12345) entropy\n"
     ]
    }
   ],
   "source": [
    "best_model = None\n",
    "best_result = 0\n",
    "best_crit = None\n",
    "\n",
    "for crit in ['gini', 'entropy']:\n",
    "    for depth in range(1, 15):\n",
    "        model = DecisionTreeClassifier(random_state=12345, criterion = crit, max_depth=depth) \n",
    "        model.fit(features_upsampled, target_upsampled) \n",
    "        result = f1_score(target_val, model.predict(features_val)) \n",
    "        if result > best_result:\n",
    "            best_model = model \n",
    "            best_result = result \n",
    "            best_crit = crit\n",
    "\n",
    "print(\"f1 наилучшей модели на валидационной выборке:\", best_result)\n",
    "print(\"Лучшие параметры\", best_model, crit)"
   ]
  },
  {
   "cell_type": "markdown",
   "metadata": {},
   "source": [
    "значение f1 уменьшилось на 0.02"
   ]
  },
  {
   "cell_type": "markdown",
   "metadata": {},
   "source": [
    "**RandomForestClassifier**"
   ]
  },
  {
   "cell_type": "code",
   "execution_count": 38,
   "metadata": {},
   "outputs": [
    {
     "name": "stdout",
     "output_type": "stream",
     "text": [
      "f1 наилучшей модели на валидационной выборке: 0.6319290465631929\n",
      "Лучшие параметры RandomForestClassifier(max_depth=10, random_state=12345)\n",
      "Wall time: 1min 14s\n"
     ]
    }
   ],
   "source": [
    "%%time\n",
    "best_model = None\n",
    "best_result = 0\n",
    "for max_dep in [1, 5, 10, 15, 20]:\n",
    "    for est in [10, 20, 50, 75, 100, 125, 150, 200, 250, 300, 400]:\n",
    "        model = RandomForestClassifier(random_state=12345, max_depth=max_dep, n_estimators = est) \n",
    "        model.fit(features_upsampled, target_upsampled) \n",
    "        result = f1_score(target_val, model.predict(features_val)) \n",
    "        if result > best_result:\n",
    "            best_model = model \n",
    "            best_result = result \n",
    "\n",
    "print(\"f1 наилучшей модели на валидационной выборке:\", best_result)\n",
    "print(\"Лучшие параметры\", best_model)"
   ]
  },
  {
   "cell_type": "markdown",
   "metadata": {},
   "source": [
    "Увеличение минорного класса дало увеличение f1 на 0.03"
   ]
  },
  {
   "cell_type": "markdown",
   "metadata": {},
   "source": [
    "* ### Downsampling of majority class"
   ]
  },
  {
   "cell_type": "markdown",
   "metadata": {},
   "source": [
    "уберем случайным образом часть объектов мажоритарного класса, чтобы выровнять баланс"
   ]
  },
  {
   "cell_type": "code",
   "execution_count": 39,
   "metadata": {},
   "outputs": [],
   "source": [
    "def downsample(features, target, fraction):\n",
    "    features_zeros = features[target == 0]\n",
    "    features_ones = features[target == 1]\n",
    "    target_zeros = target[target == 0]\n",
    "    target_ones = target[target == 1]\n",
    "\n",
    "    features_downsampled = pd.concat(\n",
    "        [features_zeros.sample(frac=fraction, random_state=12345)] + [features_ones])\n",
    "    target_downsampled = pd.concat(\n",
    "        [target_zeros.sample(frac=fraction, random_state=12345)] + [target_ones])\n",
    "    \n",
    "    features_downsampled, target_downsampled = shuffle(\n",
    "        features_downsampled, target_downsampled, random_state=12345)\n",
    "    \n",
    "    return features_downsampled, target_downsampled\n",
    "\n"
   ]
  },
  {
   "cell_type": "code",
   "execution_count": 40,
   "metadata": {},
   "outputs": [],
   "source": [
    "features_downsampled, target_downsampled = downsample(features_train, target_train, 0.25)"
   ]
  },
  {
   "cell_type": "markdown",
   "metadata": {},
   "source": [
    "**LogisticRegression**"
   ]
  },
  {
   "cell_type": "code",
   "execution_count": 41,
   "metadata": {},
   "outputs": [
    {
     "name": "stderr",
     "output_type": "stream",
     "text": [
      "<ipython-input-41-398ae9f720f0>:3: SettingWithCopyWarning: \n",
      "A value is trying to be set on a copy of a slice from a DataFrame.\n",
      "Try using .loc[row_indexer,col_indexer] = value instead\n",
      "\n",
      "See the caveats in the documentation: https://pandas.pydata.org/pandas-docs/stable/user_guide/indexing.html#returning-a-view-versus-a-copy\n",
      "  features_val[num_col] = scaler.transform(features_val[num_col])\n",
      "C:\\Users\\Lenin\\anaconda3\\lib\\site-packages\\pandas\\core\\indexing.py:1738: SettingWithCopyWarning: \n",
      "A value is trying to be set on a copy of a slice from a DataFrame.\n",
      "Try using .loc[row_indexer,col_indexer] = value instead\n",
      "\n",
      "See the caveats in the documentation: https://pandas.pydata.org/pandas-docs/stable/user_guide/indexing.html#returning-a-view-versus-a-copy\n",
      "  self._setitem_single_column(loc, value[:, i].tolist(), pi)\n",
      "<ipython-input-41-398ae9f720f0>:4: SettingWithCopyWarning: \n",
      "A value is trying to be set on a copy of a slice from a DataFrame.\n",
      "Try using .loc[row_indexer,col_indexer] = value instead\n",
      "\n",
      "See the caveats in the documentation: https://pandas.pydata.org/pandas-docs/stable/user_guide/indexing.html#returning-a-view-versus-a-copy\n",
      "  features_test[num_col] = scaler.transform(features_test[num_col])\n",
      "C:\\Users\\Lenin\\anaconda3\\lib\\site-packages\\pandas\\core\\indexing.py:1738: SettingWithCopyWarning: \n",
      "A value is trying to be set on a copy of a slice from a DataFrame.\n",
      "Try using .loc[row_indexer,col_indexer] = value instead\n",
      "\n",
      "See the caveats in the documentation: https://pandas.pydata.org/pandas-docs/stable/user_guide/indexing.html#returning-a-view-versus-a-copy\n",
      "  self._setitem_single_column(loc, value[:, i].tolist(), pi)\n"
     ]
    }
   ],
   "source": [
    "scaler = MinMaxScaler()\n",
    "features_downsampled[num_col] = scaler.fit_transform(features_downsampled[num_col])\n",
    "features_val[num_col] = scaler.transform(features_val[num_col])\n",
    "features_test[num_col] = scaler.transform(features_test[num_col])"
   ]
  },
  {
   "cell_type": "code",
   "execution_count": 42,
   "metadata": {},
   "outputs": [
    {
     "name": "stdout",
     "output_type": "stream",
     "text": [
      "f1 наилучшей модели на валидационной выборке: 0.4978759558198811\n",
      "Лучшие параметры LogisticRegression(C=5.501, max_iter=10000, penalty='l1', random_state=12345,\n",
      "                   solver='liblinear')\n"
     ]
    }
   ],
   "source": [
    "best_model = None\n",
    "best_result = 0\n",
    "for p in ['l1', 'l2']:\n",
    "    for c in np.arange(0.001, 10.0, 0.5):\n",
    "        model = LogisticRegression(random_state=12345, penalty= p, C = c, max_iter=10000, solver='liblinear') \n",
    "        model.fit(features_downsampled, target_downsampled) \n",
    "        result = f1_score(target_val, model.predict(features_val)) \n",
    "        if result > best_result:\n",
    "            best_model = model \n",
    "            best_result = result \n",
    "\n",
    "print(\"f1 наилучшей модели на валидационной выборке:\", best_result)\n",
    "print(\"Лучшие параметры\", best_model)"
   ]
  },
  {
   "cell_type": "markdown",
   "metadata": {},
   "source": [
    "Значение f1 увеличилось на 0.17 по сравнению с использованием несбалансированной выборки"
   ]
  },
  {
   "cell_type": "markdown",
   "metadata": {},
   "source": [
    "**DecisionTreeClassifier**"
   ]
  },
  {
   "cell_type": "code",
   "execution_count": 43,
   "metadata": {},
   "outputs": [
    {
     "name": "stdout",
     "output_type": "stream",
     "text": [
      "f1 наилучшей модели на валидационной выборке: 0.5855940130963517\n",
      "Лучшие параметры DecisionTreeClassifier(criterion='entropy', max_depth=6, random_state=12345) entropy\n"
     ]
    }
   ],
   "source": [
    "best_model = None\n",
    "best_result = 0\n",
    "best_crit = None\n",
    "\n",
    "for crit in ['gini', 'entropy']:\n",
    "    for depth in range(1, 15):\n",
    "        model = DecisionTreeClassifier(random_state=12345, criterion = crit, max_depth=depth) \n",
    "        model.fit(features_downsampled, target_downsampled) \n",
    "        result = f1_score(target_val, model.predict(features_val)) \n",
    "        if result > best_result:\n",
    "            best_model = model \n",
    "            best_result = result \n",
    "            best_crit = crit\n",
    "\n",
    "print(\"f1 наилучшей модели на валидационной выборке:\", best_result)\n",
    "print(\"Лучшие параметры\", best_model, crit)"
   ]
  },
  {
   "cell_type": "markdown",
   "metadata": {},
   "source": [
    "значение f1 практически не изменилось по сравнению с использованием данной модели для несбалансированной выборки"
   ]
  },
  {
   "cell_type": "markdown",
   "metadata": {},
   "source": [
    "**RandomForestClassifier**"
   ]
  },
  {
   "cell_type": "code",
   "execution_count": 44,
   "metadata": {},
   "outputs": [
    {
     "name": "stdout",
     "output_type": "stream",
     "text": [
      "f1 наилучшей модели на валидационной выборке: 0.6009478672985782\n",
      "Лучшие параметры RandomForestClassifier(max_depth=10, n_estimators=400, random_state=12345)\n",
      "Wall time: 31.3 s\n"
     ]
    }
   ],
   "source": [
    "%%time\n",
    "best_model = None\n",
    "best_result = 0\n",
    "for max_dep in [1, 5, 10, 15, 20]:\n",
    "    for est in [10, 20, 50, 75, 100, 125, 150, 200, 250, 300, 400]:\n",
    "        model = RandomForestClassifier(random_state=12345, max_depth=max_dep, n_estimators = est) \n",
    "        model.fit(features_downsampled, target_downsampled) \n",
    "        result = f1_score(target_val, model.predict(features_val)) \n",
    "        if result > best_result:\n",
    "            best_model = model \n",
    "            best_result = result \n",
    "\n",
    "print(\"f1 наилучшей модели на валидационной выборке:\", best_result)\n",
    "print(\"Лучшие параметры\", best_model)"
   ]
  },
  {
   "cell_type": "markdown",
   "metadata": {},
   "source": [
    "значение f1 уменьшилось на 0.01 по сравнению с использованием данной модели для несбалансированной выборки"
   ]
  },
  {
   "cell_type": "markdown",
   "metadata": {},
   "source": [
    "* ### Изменение порога классификации"
   ]
  },
  {
   "cell_type": "markdown",
   "metadata": {},
   "source": [
    "Уменьшим порог классификации меньшего класса. Возьмем модели до балансировки классов с подобранными гиперпараметрами"
   ]
  },
  {
   "cell_type": "markdown",
   "metadata": {},
   "source": [
    "**LogisticRegression**"
   ]
  },
  {
   "cell_type": "code",
   "execution_count": 45,
   "metadata": {},
   "outputs": [
    {
     "name": "stdout",
     "output_type": "stream",
     "text": [
      "Порог = 0.00 | Точность = 0.204, Полнота = 1.000, f1 = 0.339\n",
      "Порог = 0.02 | Точность = 0.205, Полнота = 1.000, f1 = 0.340\n",
      "Порог = 0.04 | Точность = 0.215, Полнота = 0.988, f1 = 0.353\n",
      "Порог = 0.06 | Точность = 0.232, Полнота = 0.971, f1 = 0.375\n",
      "Порог = 0.08 | Точность = 0.254, Полнота = 0.944, f1 = 0.400\n",
      "Порог = 0.10 | Точность = 0.270, Полнота = 0.902, f1 = 0.416\n",
      "Порог = 0.12 | Точность = 0.295, Полнота = 0.873, f1 = 0.441\n",
      "Порог = 0.14 | Точность = 0.320, Полнота = 0.841, f1 = 0.464\n",
      "Порог = 0.16 | Точность = 0.336, Полнота = 0.794, f1 = 0.472\n",
      "Порог = 0.18 | Точность = 0.358, Полнота = 0.762, f1 = 0.487\n",
      "Порог = 0.20 | Точность = 0.371, Полнота = 0.711, f1 = 0.488\n",
      "Порог = 0.22 | Точность = 0.403, Полнота = 0.672, f1 = 0.504\n",
      "Порог = 0.24 | Точность = 0.419, Полнота = 0.630, f1 = 0.503\n",
      "Порог = 0.26 | Точность = 0.433, Полнота = 0.574, f1 = 0.494\n",
      "Порог = 0.28 | Точность = 0.458, Полнота = 0.544, f1 = 0.497\n"
     ]
    }
   ],
   "source": [
    "model = LogisticRegression(C=3.0009999999999994, max_iter=10000, random_state=12345, solver='liblinear')\n",
    "model.fit(features_train, target_train)\n",
    "probabilities_valid = model.predict_proba(features_val)\n",
    "probabilities_one_valid = probabilities_valid[:, 1]\n",
    "\n",
    "for threshold in np.arange(0, 0.3, 0.02):\n",
    "    predicted_valid = probabilities_one_valid > threshold\n",
    "    precision = precision_score(target_val, predicted_valid)\n",
    "    recall = recall_score(target_val, predicted_valid)\n",
    "    f1 = f1_score(target_val, predicted_valid)\n",
    "    print(\"Порог = {:.2f} | Точность = {:.3f}, Полнота = {:.3f}, f1 = {:.3f}\".format(\n",
    "        threshold, precision, recall, f1)) "
   ]
  },
  {
   "cell_type": "markdown",
   "metadata": {},
   "source": [
    "Наибольшее значение f1 (0.504) получилось при использовании порога 0.22"
   ]
  },
  {
   "cell_type": "markdown",
   "metadata": {},
   "source": [
    "**DecisionTreeClassifier**"
   ]
  },
  {
   "cell_type": "code",
   "execution_count": 46,
   "metadata": {},
   "outputs": [
    {
     "name": "stdout",
     "output_type": "stream",
     "text": [
      "Порог = 0.00 | Точность = 0.206, Полнота = 1.000, f1 = 0.341\n",
      "Порог = 0.02 | Точность = 0.233, Полнота = 0.985, f1 = 0.376\n",
      "Порог = 0.04 | Точность = 0.243, Полнота = 0.980, f1 = 0.390\n",
      "Порог = 0.06 | Точность = 0.271, Полнота = 0.973, f1 = 0.424\n",
      "Порог = 0.08 | Точность = 0.316, Полнота = 0.926, f1 = 0.472\n",
      "Порог = 0.10 | Точность = 0.316, Полнота = 0.926, f1 = 0.472\n",
      "Порог = 0.12 | Точность = 0.421, Полнота = 0.797, f1 = 0.551\n",
      "Порог = 0.14 | Точность = 0.421, Полнота = 0.797, f1 = 0.551\n",
      "Порог = 0.16 | Точность = 0.421, Полнота = 0.794, f1 = 0.550\n",
      "Порог = 0.18 | Точность = 0.421, Полнота = 0.794, f1 = 0.550\n",
      "Порог = 0.20 | Точность = 0.439, Полнота = 0.757, f1 = 0.556\n",
      "Порог = 0.22 | Точность = 0.439, Полнота = 0.757, f1 = 0.556\n",
      "Порог = 0.24 | Точность = 0.490, Полнота = 0.642, f1 = 0.556\n",
      "Порог = 0.26 | Точность = 0.490, Полнота = 0.642, f1 = 0.556\n",
      "Порог = 0.28 | Точность = 0.563, Полнота = 0.603, f1 = 0.582\n",
      "Порог = 0.30 | Точность = 0.563, Полнота = 0.603, f1 = 0.582\n",
      "Порог = 0.32 | Точность = 0.724, Полнота = 0.507, f1 = 0.597\n",
      "Порог = 0.34 | Точность = 0.724, Полнота = 0.507, f1 = 0.597\n",
      "Порог = 0.36 | Точность = 0.724, Полнота = 0.507, f1 = 0.597\n",
      "Порог = 0.38 | Точность = 0.724, Полнота = 0.507, f1 = 0.597\n",
      "Порог = 0.40 | Точность = 0.724, Полнота = 0.507, f1 = 0.597\n",
      "Порог = 0.42 | Точность = 0.724, Полнота = 0.507, f1 = 0.597\n",
      "Порог = 0.44 | Точность = 0.724, Полнота = 0.507, f1 = 0.597\n",
      "Порог = 0.46 | Точность = 0.725, Полнота = 0.498, f1 = 0.590\n",
      "Порог = 0.48 | Точность = 0.725, Полнота = 0.498, f1 = 0.590\n"
     ]
    }
   ],
   "source": [
    "model = DecisionTreeClassifier(max_depth=5, random_state=12345, criterion = 'entropy')\n",
    "model.fit(features_train, target_train)\n",
    "probabilities_valid = model.predict_proba(features_val)\n",
    "probabilities_one_valid = probabilities_valid[:, 1]\n",
    "\n",
    "for threshold in np.arange(0, 0.5, 0.02):\n",
    "    predicted_valid = probabilities_one_valid > threshold\n",
    "    precision = precision_score(target_val, predicted_valid)\n",
    "    recall = recall_score(target_val, predicted_valid)\n",
    "    f1 = f1_score(target_val, predicted_valid)\n",
    "    print(\"Порог = {:.2f} | Точность = {:.3f}, Полнота = {:.3f}, f1 = {:.3f}\".format(\n",
    "        threshold, precision, recall, f1)) "
   ]
  },
  {
   "cell_type": "markdown",
   "metadata": {},
   "source": [
    "При значениях порога от 0.32 до 0.44 модель дает максимальное значение f1 равное 0.597"
   ]
  },
  {
   "cell_type": "markdown",
   "metadata": {},
   "source": [
    "**RandomForestClassifier**"
   ]
  },
  {
   "cell_type": "code",
   "execution_count": 47,
   "metadata": {},
   "outputs": [
    {
     "name": "stdout",
     "output_type": "stream",
     "text": [
      "Порог = 0.00 | Точность = 0.204, Полнота = 1.000, f1 = 0.339\n",
      "Порог = 0.02 | Точность = 0.217, Полнота = 1.000, f1 = 0.357\n",
      "Порог = 0.04 | Точность = 0.242, Полнота = 0.995, f1 = 0.389\n",
      "Порог = 0.06 | Точность = 0.272, Полнота = 0.990, f1 = 0.427\n",
      "Порог = 0.08 | Точность = 0.307, Полнота = 0.968, f1 = 0.466\n",
      "Порог = 0.10 | Точность = 0.339, Полнота = 0.941, f1 = 0.499\n",
      "Порог = 0.12 | Точность = 0.375, Полнота = 0.904, f1 = 0.531\n",
      "Порог = 0.14 | Точность = 0.403, Полнота = 0.865, f1 = 0.549\n",
      "Порог = 0.16 | Точность = 0.434, Полнота = 0.841, f1 = 0.572\n",
      "Порог = 0.18 | Точность = 0.463, Полнота = 0.809, f1 = 0.589\n",
      "Порог = 0.20 | Точность = 0.491, Полнота = 0.775, f1 = 0.601\n",
      "Порог = 0.22 | Точность = 0.524, Полнота = 0.755, f1 = 0.618\n",
      "Порог = 0.24 | Точность = 0.547, Полнота = 0.725, f1 = 0.624\n",
      "Порог = 0.26 | Точность = 0.572, Полнота = 0.699, f1 = 0.629\n",
      "Порог = 0.28 | Точность = 0.597, Полнота = 0.662, f1 = 0.628\n",
      "Порог = 0.30 | Точность = 0.627, Полнота = 0.640, f1 = 0.633\n",
      "Порог = 0.32 | Точность = 0.642, Полнота = 0.605, f1 = 0.623\n",
      "Порог = 0.34 | Точность = 0.657, Полнота = 0.591, f1 = 0.622\n",
      "Порог = 0.36 | Точность = 0.676, Полнота = 0.556, f1 = 0.610\n",
      "Порог = 0.38 | Точность = 0.705, Полнота = 0.544, f1 = 0.614\n",
      "Порог = 0.40 | Точность = 0.732, Полнота = 0.529, f1 = 0.615\n",
      "Порог = 0.42 | Точность = 0.746, Полнота = 0.512, f1 = 0.608\n",
      "Порог = 0.44 | Точность = 0.772, Полнота = 0.480, f1 = 0.592\n",
      "Порог = 0.46 | Точность = 0.792, Полнота = 0.458, f1 = 0.581\n",
      "Порог = 0.48 | Точность = 0.818, Полнота = 0.441, f1 = 0.573\n"
     ]
    }
   ],
   "source": [
    "model = RandomForestClassifier(max_features='log2', n_estimators=125, random_state=12345, max_depth = 10)\n",
    "model.fit(features_train, target_train)\n",
    "probabilities_valid = model.predict_proba(features_val)\n",
    "probabilities_one_valid = probabilities_valid[:, 1]\n",
    "\n",
    "for threshold in np.arange(0, 0.5, 0.02):\n",
    "    predicted_valid = probabilities_one_valid > threshold\n",
    "    precision = precision_score(target_val, predicted_valid)\n",
    "    recall = recall_score(target_val, predicted_valid)\n",
    "    f1 = f1_score(target_val, predicted_valid)\n",
    "    print(\"Порог = {:.2f} | Точность = {:.3f}, Полнота = {:.3f}, f1 = {:.3f}\".format(\n",
    "        threshold, precision, recall, f1)) "
   ]
  },
  {
   "cell_type": "markdown",
   "metadata": {},
   "source": [
    "Наибольшее качество на валидационной выборке модель дает при пороге равном 0.30"
   ]
  },
  {
   "cell_type": "markdown",
   "metadata": {},
   "source": [
    "**Для проверки отберем 3 модели, для которых мы получили наиболее высокое занчение f1  на валидационной выборке. Лучшей оказалась модель случайного леса с использованием методов: Upsampling of minority class,  Downsampling of majority class и изменением порога классификации. Проверим для них качество на отложенной тестовой выборке и посмотрим на значение ROC_AUC**"
   ]
  },
  {
   "cell_type": "markdown",
   "metadata": {},
   "source": [
    "## 4. Тестирование модели"
   ]
  },
  {
   "cell_type": "markdown",
   "metadata": {},
   "source": [
    "* **RandomForestClassifier, Upsampling of minority class**"
   ]
  },
  {
   "cell_type": "code",
   "execution_count": 48,
   "metadata": {},
   "outputs": [
    {
     "name": "stdout",
     "output_type": "stream",
     "text": [
      "f1 на тестовой выборке: 0.6017699115044248\n",
      "Значение AUC_ROC 0.8450345568989637\n"
     ]
    }
   ],
   "source": [
    "model = RandomForestClassifier(n_estimators=400, random_state=12345, max_depth = 10) \n",
    "model.fit(features_upsampled, target_upsampled) \n",
    "result = f1_score(target_test, model.predict(features_test)) \n",
    "probabilities_valid = model.predict_proba(features_test)\n",
    "probabilities_one_valid = probabilities_valid[:, 1]\n",
    "\n",
    "auc_roc = roc_auc_score(target_test, probabilities_one_valid)\n",
    "\n",
    "print(\"f1 на тестовой выборке:\", result)\n",
    "print(\"Значение AUC_ROC\", auc_roc)"
   ]
  },
  {
   "cell_type": "code",
   "execution_count": 49,
   "metadata": {},
   "outputs": [
    {
     "data": {
      "image/png": "[encoded data removed]",
      "text/plain": [
       "<Figure size 432x288 with 1 Axes>"
      ]
     },
     "metadata": {
      "needs_background": "light"
     },
     "output_type": "display_data"
    }
   ],
   "source": [
    "fpr, tpr, thresholds = roc_curve(target_test, probabilities_one_valid) \n",
    "\n",
    "plt.figure()\n",
    "\n",
    "plt.plot(fpr, tpr)\n",
    "\n",
    "# ROC-кривая случайной модели (выглядит как прямая)\n",
    "plt.plot([0, 1], [0, 1], linestyle='--')\n",
    "\n",
    "plt.xlim([0.0, 1.0])\n",
    "plt.ylim([0.0, 1.0])\n",
    "\n",
    "plt.xlabel('False Positive Rate')\n",
    "plt.ylabel('True Positive Rate')\n",
    "plt.title('ROC-кривая')\n",
    "\n",
    "plt.show()"
   ]
  },
  {
   "cell_type": "markdown",
   "metadata": {},
   "source": [
    "* **RandomForestClassifier, Downsampling of majority class**"
   ]
  },
  {
   "cell_type": "code",
   "execution_count": 50,
   "metadata": {},
   "outputs": [
    {
     "name": "stdout",
     "output_type": "stream",
     "text": [
      "f1 на тестовой выборке: 0.5744274809160306\n",
      "Значение AUC_ROC 0.8448232516029126\n"
     ]
    }
   ],
   "source": [
    "model = RandomForestClassifier(n_estimators=400, random_state=12345, max_depth = 10) \n",
    "model.fit(features_downsampled, target_downsampled) \n",
    "result = f1_score(target_test, model.predict(features_test)) \n",
    "probabilities_valid = model.predict_proba(features_test)\n",
    "probabilities_one_valid = probabilities_valid[:, 1]\n",
    "\n",
    "auc_roc = roc_auc_score(target_test, probabilities_one_valid)\n",
    "\n",
    "print(\"f1 на тестовой выборке:\", result)\n",
    "print(\"Значение AUC_ROC\", auc_roc)"
   ]
  },
  {
   "cell_type": "code",
   "execution_count": 51,
   "metadata": {},
   "outputs": [
    {
     "data": {
      "image/png": "[encoded data removed]",
      "text/plain": [
       "<Figure size 432x288 with 1 Axes>"
      ]
     },
     "metadata": {
      "needs_background": "light"
     },
     "output_type": "display_data"
    }
   ],
   "source": [
    "fpr, tpr, thresholds = roc_curve(target_test, probabilities_one_valid) \n",
    "\n",
    "plt.figure()\n",
    "\n",
    "plt.plot(fpr, tpr)\n",
    "\n",
    "# ROC-кривая случайной модели (выглядит как прямая)\n",
    "plt.plot([0, 1], [0, 1], linestyle='--')\n",
    "\n",
    "plt.xlim([0.0, 1.0])\n",
    "plt.ylim([0.0, 1.0])\n",
    "\n",
    "plt.xlabel('False Positive Rate')\n",
    "plt.ylabel('True Positive Rate')\n",
    "plt.title('ROC-кривая')\n",
    "\n",
    "plt.show()"
   ]
  },
  {
   "cell_type": "markdown",
   "metadata": {},
   "source": [
    "* **RandomForestClassifier, Изменение порога классификации**"
   ]
  },
  {
   "cell_type": "code",
   "execution_count": 52,
   "metadata": {},
   "outputs": [
    {
     "name": "stdout",
     "output_type": "stream",
     "text": [
      "Порог = 0.20 | f1 = 0.581\n",
      "Порог = 0.22 | f1 = 0.585\n",
      "Порог = 0.24 | f1 = 0.596\n",
      "Порог = 0.26 | f1 = 0.602\n",
      "Порог = 0.28 | f1 = 0.609\n",
      "Порог = 0.30 | f1 = 0.620\n",
      "Порог = 0.32 | f1 = 0.608\n",
      "Порог = 0.34 | f1 = 0.607\n",
      "Порог = 0.36 | f1 = 0.601\n",
      "Порог = 0.38 | f1 = 0.595\n",
      "Порог = 0.40 | f1 = 0.590\n",
      "Порог = 0.42 | f1 = 0.566\n",
      "Порог = 0.44 | f1 = 0.557\n",
      "Порог = 0.46 | f1 = 0.556\n",
      "Порог = 0.48 | f1 = 0.548\n"
     ]
    }
   ],
   "source": [
    "model = RandomForestClassifier(n_estimators=400, random_state=12345, max_depth = 10)\n",
    "model.fit(features_train, target_train)\n",
    "probabilities_valid = model.predict_proba(features_test)\n",
    "probabilities_one_valid = probabilities_valid[:, 1]\n",
    "\n",
    "for threshold in np.arange(0.2, 0.5, 0.02):\n",
    "    predicted_valid = probabilities_one_valid > threshold\n",
    "    precision = precision_score(target_test, predicted_valid)\n",
    "    recall = recall_score(target_test, predicted_valid)\n",
    "    f1 = f1_score(target_test, predicted_valid)\n",
    "    print(\"Порог = {:.2f} | f1 = {:.3f}\".format(threshold, f1)) "
   ]
  },
  {
   "cell_type": "markdown",
   "metadata": {},
   "source": [
    "**Использованные в работе методы для балансировки классов наибольшее влияние оказали на модель Логистической регрессии. По сравнению с несбалансированными данными значение метрики f1  удалось увеличить на 0.19 (за счет использования class_weight и за счет изменения порога классификации), на 0.18 за счет увеличения количества данных минорного класса и на 0.17 за счет уменьшения данных мажоритарного класса. Решающие деревья и Случайный лес оказались менее чувствительны к дисбалансу классов. За счет примененных методов значение метрики f1 для DecisionTreeClassifier не изенилось или незначительно уменьшилось. Наибольшее качество для исследуемого датасета дала модель RandomForestClassifier при снижении порога классификации до 0.4 = f1 = 0.63 для валидационной выборки. Наилучшим значением на тестовой выборке стало f1 = 0.602 при использовании метода Upsampling of minority class.** "
   ]
  }
 ],
 "metadata": {
  "colab": {
   "collapsed_sections": [],
   "name": "Ensembles_14_06.ipynb",
   "provenance": []
  },
  "kernelspec": {
   "display_name": "Python 3 (ipykernel)",
   "language": "python",
   "name": "python3"
  },
  "language_info": {
   "codemirror_mode": {
    "name": "ipython",
    "version": 3
   },
   "file_extension": ".py",
   "mimetype": "text/x-python",
   "name": "python",
   "nbconvert_exporter": "python",
   "pygments_lexer": "ipython3",
   "version": "3.8.8"
  },
  "toc": {
   "base_numbering": 1,
   "nav_menu": {},
   "number_sections": true,
   "sideBar": true,
   "skip_h1_title": true,
   "title_cell": "Table of Contents",
   "title_sidebar": "Contents",
   "toc_cell": false,
   "toc_position": {},
   "toc_section_display": true,
   "toc_window_display": false
  }
 },
 "nbformat": 4,
 "nbformat_minor": 1
}
